{
 "cells": [
  {
   "cell_type": "markdown",
   "metadata": {},
   "source": [
    "# Introduction\n",
    "\n",
    "Demonstrate your skill of markdown  \n",
    "**[markdown cheat sheet](https://github.com/adam-p/markdown-here/wiki/Markdown-Cheatsheet)**\n"
   ]
  },
  {
   "cell_type": "markdown",
   "metadata": {},
   "source": [
    "### About me\n",
    "\n",
    "Hi, I'm James. I'm a 2nd year PhD student in BME in Gregg Trahey's lab. My research is in ultrasound coherence-based frequency selection for image quality optimization.\n"
   ]
  },
  {
   "cell_type": "markdown",
   "metadata": {},
   "source": [
    "### My Hobbies Ranked\n",
    "\n",
    "1. Photography\n",
    "2. Hiking \n",
    "3. Beer"
   ]
  },
  {
   "cell_type": "markdown",
   "metadata": {},
   "source": [
    "```python\n",
    "def fibonacci(n):\n",
    "    k = 0\n",
    "    k_old = 1\n",
    "    for i in range(n):\n",
    "        print(k)\n",
    "        k_new = k+k_old\n",
    "        k_old = k\n",
    "        k = k_new\n",
    "    return\n",
    "```"
   ]
  },
  {
   "cell_type": "code",
   "execution_count": 2,
   "metadata": {},
   "outputs": [
    {
     "name": "stdout",
     "output_type": "stream",
     "text": [
      "0\n",
      "1\n",
      "1\n",
      "2\n",
      "3\n"
     ]
    }
   ],
   "source": [
    "def fibonacci(n):\n",
    "    k = 0\n",
    "    k_old = 1\n",
    "    for i in range(n):\n",
    "        print(k)\n",
    "        k_new = k+k_old\n",
    "        k_old = k\n",
    "        k = k_new\n",
    "    return\n",
    "\n",
    "fibonacci(5)"
   ]
  },
  {
   "cell_type": "markdown",
   "metadata": {},
   "source": [
    "### Link your favorite Youtube video\n",
    "\n",
    "<a href=\"https://www.youtube.com/watch?v=31mh9IGFAAo\n",
    "\" target=\"_blank\"><img src=\"https://bloximages.newyork1.vip.townnews.com/theadvocate.com/content/tncms/assets/v3/editorial/d/26/d26373e0-c773-11e8-b3da-eb017c217344/5bb56b19eeb0c.image.jpg?resize=1200%2C1656\"\n",
    "alt=\"IMAGE ALT TEXT HERE\" width=\"240\" height=\"180\" border=\"10\" /></a>"
   ]
  }
 ],
 "metadata": {
  "kernelspec": {
   "display_name": "Python 3",
   "language": "python",
   "name": "python3"
  },
  "language_info": {
   "codemirror_mode": {
    "name": "ipython",
    "version": 3
   },
   "file_extension": ".py",
   "mimetype": "text/x-python",
   "name": "python",
   "nbconvert_exporter": "python",
   "pygments_lexer": "ipython3",
   "version": "3.6.4"
  }
 },
 "nbformat": 4,
 "nbformat_minor": 2
}
